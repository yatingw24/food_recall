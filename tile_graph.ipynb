{
 "cells": [
  {
   "cell_type": "code",
   "execution_count": 1,
   "id": "e86b6b88-b501-4212-a212-0d3f5cf5bb0e",
   "metadata": {},
   "outputs": [],
   "source": [
    "%reload_ext rpy2.ipython\n",
    "%reload_ext autoreload\n",
    "%autoreload 2\n",
    "\n",
    "%matplotlib inline  \n",
    "from matplotlib import rcParams\n",
    "rcParams['figure.figsize'] = (16, 100)\n",
    "\n",
    "import warnings\n",
    "from rpy2.rinterface import RRuntimeWarning\n",
    "warnings.filterwarnings(\"ignore\") # Ignore all warnings\n",
    "# warnings.filterwarnings(\"ignore\", category=RRuntimeWarning) # Show some warnings"
   ]
  },
  {
   "cell_type": "code",
   "execution_count": 56,
   "id": "00cfd912-8c68-42ea-9902-1d1279bb128d",
   "metadata": {},
   "outputs": [],
   "source": [
    "%%R\n",
    "\n",
    "require('ggplot2')"
   ]
  },
  {
   "cell_type": "code",
   "execution_count": 2,
   "id": "2579b5e4-a7b1-400d-9e2c-6ddd56e070c5",
   "metadata": {},
   "outputs": [
    {
     "name": "stdout",
     "output_type": "stream",
     "text": [
      "── Attaching core tidyverse packages ──────────────────────── tidyverse 2.0.0 ──\n",
      "✔ dplyr     1.1.4     ✔ readr     2.1.5\n",
      "✔ forcats   1.0.0     ✔ stringr   1.5.1\n",
      "✔ ggplot2   3.5.1     ✔ tibble    3.2.1\n",
      "✔ lubridate 1.9.4     ✔ tidyr     1.3.1\n",
      "✔ purrr     1.0.4     \n",
      "── Conflicts ────────────────────────────────────────── tidyverse_conflicts() ──\n",
      "✖ dplyr::filter() masks stats::filter()\n",
      "✖ dplyr::lag()    masks stats::lag()\n",
      "ℹ Use the conflicted package (<http://conflicted.r-lib.org/>) to force all conflicts to become errors\n"
     ]
    },
    {
     "data": {
      "text/plain": [
       "Lade nötiges Paket: tidyverse\n"
      ]
     },
     "metadata": {},
     "output_type": "display_data"
    }
   ],
   "source": [
    "%%R\n",
    "\n",
    "require('tidyverse')"
   ]
  },
  {
   "cell_type": "code",
   "execution_count": 43,
   "id": "ba51ddb8-538a-43e8-8a91-5560a0e23ddd",
   "metadata": {},
   "outputs": [],
   "source": [
    "%%R\n",
    "\n",
    "total_tiles <- 100  \n",
    "\n",
    "# Normalize count values to fit into the grid\n",
    "df_grid <- df %>%\n",
    "  mutate(tiles = round(Count / sum(Count) * total_tiles)) %>%\n",
    "  arrange(desc(tiles))\n",
    "\n",
    "# Expand the data into individual tiles\n",
    "df_expanded <- df_grid %>%\n",
    "  uncount(tiles) %>%\n",
    "  mutate(tile_id = row_number())\n",
    "\n",
    "# Generate x, y positions for a grid layout\n",
    "df_expanded <- df_expanded %>%\n",
    "  mutate(\n",
    "    x = (tile_id - 1) %% 10,  # 10 columns\n",
    "    y = (tile_id - 1) %/% 10   # Row index\n",
    "  )"
   ]
  },
  {
   "cell_type": "code",
   "execution_count": 48,
   "id": "89451931-73da-40e8-8a62-5e2777c7a4bd",
   "metadata": {},
   "outputs": [],
   "source": [
    "%%R\n",
    "\n",
    "chart = ggplot(df_expanded, aes(x = x, y = -y, fill = `Product Type`)) +\n",
    "  geom_tile(color = \"white\", width = 0.9, height = 0.9) +  # Keep square tiles\n",
    "  scale_fill_brewer(palette = \"Set2\") +  \n",
    "  theme_minimal() +\n",
    "  labs(\n",
    "    title = \"FDA Recalls by Product Type (2024)\",\n",
    "    subtitle = \"Each tile represents 10 recall cases\",\n",
    "    fill = \"Product Type\"\n",
    "  ) +\n",
    "  coord_fixed(ratio = 1) +  # Ensures tiles remain squares\n",
    "  theme(\n",
    "    axis.text = element_blank(),\n",
    "    axis.ticks = element_blank(),\n",
    "    panel.grid = element_blank()\n",
    "  )\n"
   ]
  },
  {
   "cell_type": "code",
   "execution_count": 60,
   "id": "c351e879-cc24-47f4-8117-3276f74a944c",
   "metadata": {},
   "outputs": [],
   "source": [
    "%%R\n",
    "\n",
    "ggsave('tile.svg', plot = chart, width = 8, height = 6)"
   ]
  },
  {
   "cell_type": "code",
   "execution_count": null,
   "id": "ec7d3266-c193-4dff-b680-5189d7fd2eba",
   "metadata": {},
   "outputs": [],
   "source": []
  }
 ],
 "metadata": {
  "kernelspec": {
   "display_name": "Python 3 (ipykernel)",
   "language": "python",
   "name": "python3"
  },
  "language_info": {
   "codemirror_mode": {
    "name": "ipython",
    "version": 3
   },
   "file_extension": ".py",
   "mimetype": "text/x-python",
   "name": "python",
   "nbconvert_exporter": "python",
   "pygments_lexer": "ipython3",
   "version": "3.12.7"
  }
 },
 "nbformat": 4,
 "nbformat_minor": 5
}
